{
  "nbformat": 4,
  "nbformat_minor": 0,
  "metadata": {
    "colab": {
      "provenance": [],
      "authorship_tag": "ABX9TyPwJ5+HsW3JfmKDq7KShZ6a",
      "include_colab_link": true
    },
    "kernelspec": {
      "name": "python3",
      "display_name": "Python 3"
    },
    "language_info": {
      "name": "python"
    }
  },
  "cells": [
    {
      "cell_type": "markdown",
      "metadata": {
        "id": "view-in-github",
        "colab_type": "text"
      },
      "source": [
        "<a href=\"https://colab.research.google.com/github/shruti06-ux/pytorch/blob/main/LinearRegression.ipynb\" target=\"_parent\"><img src=\"https://colab.research.google.com/assets/colab-badge.svg\" alt=\"Open In Colab\"/></a>"
      ]
    },
    {
      "cell_type": "markdown",
      "source": [
        "# WORK FLOW\n",
        "1. import important libraries\n",
        "2. Get data ready (turn into tensors)\n",
        "3. Build A Linear Regression model\n",
        "4. pick a loss function and optimizer\n",
        "5. build a training loop\n",
        "6. Evaluate your model\n",
        "7. test model with a new data point\n",
        "8. save the model\n",
        "\n"
      ],
      "metadata": {
        "id": "zFyr_6UKBVht"
      }
    },
    {
      "cell_type": "markdown",
      "source": [
        "# **1.import important libraries**"
      ],
      "metadata": {
        "id": "UFHcbMZxCqql"
      }
    },
    {
      "cell_type": "code",
      "execution_count": 1,
      "metadata": {
        "id": "MvgZ8CYoA2PZ"
      },
      "outputs": [],
      "source": [
        "import torch\n",
        "import torch.nn as nn\n",
        "import numpy as np\n",
        "import matplotlib.pyplot as plt"
      ]
    },
    {
      "cell_type": "markdown",
      "source": [
        "# **2.Get data ready (turn into tensors)**"
      ],
      "metadata": {
        "id": "PI6SfldbDYlU"
      }
    },
    {
      "cell_type": "code",
      "source": [
        "x_train = np.array([[3.3],[4.4],[5.5],[6.71],[6.93],[4.168],\n",
        "                   [9.779],[6.182],[7.59],[2.167],[7.042],\n",
        "                   [10.791],[5.313],[7.997],[3.1]],dtype=np.float32)\n",
        "y_train = np.array([[1.7],[2.79],[2.09],[3.19],[1.69],[1.573],\n",
        "                   [3.366],[2.596],[2.53],[1.221],[2.827],\n",
        "                   [3.465],[1.65],[2.904],[1.3]],dtype=np.float32)\n",
        "x_train,y_train"
      ],
      "metadata": {
        "colab": {
          "base_uri": "https://localhost:8080/"
        },
        "id": "sTyCOO93C-wV",
        "outputId": "3360a01e-2576-4b28-9e97-61d7a96df33d"
      },
      "execution_count": 2,
      "outputs": [
        {
          "output_type": "execute_result",
          "data": {
            "text/plain": [
              "(array([[ 3.3  ],\n",
              "        [ 4.4  ],\n",
              "        [ 5.5  ],\n",
              "        [ 6.71 ],\n",
              "        [ 6.93 ],\n",
              "        [ 4.168],\n",
              "        [ 9.779],\n",
              "        [ 6.182],\n",
              "        [ 7.59 ],\n",
              "        [ 2.167],\n",
              "        [ 7.042],\n",
              "        [10.791],\n",
              "        [ 5.313],\n",
              "        [ 7.997],\n",
              "        [ 3.1  ]], dtype=float32),\n",
              " array([[1.7  ],\n",
              "        [2.79 ],\n",
              "        [2.09 ],\n",
              "        [3.19 ],\n",
              "        [1.69 ],\n",
              "        [1.573],\n",
              "        [3.366],\n",
              "        [2.596],\n",
              "        [2.53 ],\n",
              "        [1.221],\n",
              "        [2.827],\n",
              "        [3.465],\n",
              "        [1.65 ],\n",
              "        [2.904],\n",
              "        [1.3  ]], dtype=float32))"
            ]
          },
          "metadata": {},
          "execution_count": 2
        }
      ]
    },
    {
      "cell_type": "code",
      "source": [
        "fig = plt.figure(figsize=(10,5))\n",
        "plt.plot(x_train,y_train,'ro',label='Orignal Data')\n",
        "plt.xlabel('Hours Studied')\n",
        "plt.ylabel('Exam Score')\n",
        "plt.legend()\n",
        "plt.title('Exam Score Prediction')\n",
        "plt.show()"
      ],
      "metadata": {
        "colab": {
          "base_uri": "https://localhost:8080/",
          "height": 487
        },
        "id": "Y4WU-B_CRfQD",
        "outputId": "7411fbf2-6305-4782-b533-c62df4d3d72b"
      },
      "execution_count": 3,
      "outputs": [
        {
          "output_type": "display_data",
          "data": {
            "text/plain": [
              "<Figure size 1000x500 with 1 Axes>"
            ],
            "image/png": "[encoded data removed]"
          },
          "metadata": {}
        }
      ]
    },
    {
      "cell_type": "markdown",
      "source": [
        "x_train we will train our model, we will test our model with new data point , 8 hours,"
      ],
      "metadata": {
        "id": "jNoQPVc7Mmob"
      }
    },
    {
      "cell_type": "code",
      "source": [
        "x_train = torch.from_numpy(x_train)\n",
        "y_train = torch.from_numpy(y_train)\n",
        "x_train , y_train"
      ],
      "metadata": {
        "id": "v42Kd_Y2Rdit",
        "colab": {
          "base_uri": "https://localhost:8080/"
        },
        "outputId": "a2e4ef89-3aac-446d-a209-869a2f86d993"
      },
      "execution_count": 4,
      "outputs": [
        {
          "output_type": "execute_result",
          "data": {
            "text/plain": [
              "(tensor([[ 3.3000],\n",
              "         [ 4.4000],\n",
              "         [ 5.5000],\n",
              "         [ 6.7100],\n",
              "         [ 6.9300],\n",
              "         [ 4.1680],\n",
              "         [ 9.7790],\n",
              "         [ 6.1820],\n",
              "         [ 7.5900],\n",
              "         [ 2.1670],\n",
              "         [ 7.0420],\n",
              "         [10.7910],\n",
              "         [ 5.3130],\n",
              "         [ 7.9970],\n",
              "         [ 3.1000]]),\n",
              " tensor([[1.7000],\n",
              "         [2.7900],\n",
              "         [2.0900],\n",
              "         [3.1900],\n",
              "         [1.6900],\n",
              "         [1.5730],\n",
              "         [3.3660],\n",
              "         [2.5960],\n",
              "         [2.5300],\n",
              "         [1.2210],\n",
              "         [2.8270],\n",
              "         [3.4650],\n",
              "         [1.6500],\n",
              "         [2.9040],\n",
              "         [1.3000]]))"
            ]
          },
          "metadata": {},
          "execution_count": 4
        }
      ]
    },
    {
      "cell_type": "markdown",
      "source": [
        "# **3.Build A Linear Regression model**"
      ],
      "metadata": {
        "id": "INbkuWPaOOo1"
      }
    },
    {
      "cell_type": "code",
      "source": [
        "class LinearRegression(nn.Module):   #if we write df outside class it called fun or inside class said method.\n",
        "  def __init__(self):                #constructor self is object\n",
        "    super().__init__()\n",
        "    self.linear= nn.Linear(1,1)\n",
        "\n",
        "\n",
        "  def forward(self,x):   #method wite in class\n",
        "    out = self.linear(x)\n",
        "    return out"
      ],
      "metadata": {
        "id": "adT10mfBNUDD"
      },
      "execution_count": 5,
      "outputs": []
    },
    {
      "cell_type": "code",
      "source": [
        "#object of class only (object can access the class)\n",
        "model = LinearRegression()"
      ],
      "metadata": {
        "id": "1Ql23VELPuIS"
      },
      "execution_count": 6,
      "outputs": []
    },
    {
      "cell_type": "code",
      "source": [
        "model"
      ],
      "metadata": {
        "colab": {
          "base_uri": "https://localhost:8080/"
        },
        "id": "ISvrM3XwQp9E",
        "outputId": "b8095b9d-d03b-4014-afdb-07a419ed6cc4"
      },
      "execution_count": 7,
      "outputs": [
        {
          "output_type": "execute_result",
          "data": {
            "text/plain": [
              "LinearRegression(\n",
              "  (linear): Linear(in_features=1, out_features=1, bias=True)\n",
              ")"
            ]
          },
          "metadata": {},
          "execution_count": 7
        }
      ]
    },
    {
      "cell_type": "code",
      "source": [
        "model.state_dict()"
      ],
      "metadata": {
        "colab": {
          "base_uri": "https://localhost:8080/"
        },
        "id": "_7yrY0jyQs-6",
        "outputId": "a029d60f-6b18-4d3e-fc3b-a5b1b45e4d51"
      },
      "execution_count": 8,
      "outputs": [
        {
          "output_type": "execute_result",
          "data": {
            "text/plain": [
              "OrderedDict([('linear.weight', tensor([[0.7159]])),\n",
              "             ('linear.bias', tensor([-0.4192]))])"
            ]
          },
          "metadata": {},
          "execution_count": 8
        }
      ]
    },
    {
      "cell_type": "code",
      "source": [
        "list(model.parameters())"
      ],
      "metadata": {
        "id": "yNl9y_N5hRbg",
        "colab": {
          "base_uri": "https://localhost:8080/"
        },
        "outputId": "af9048d5-58c6-447c-9cc4-d21e25a05fd0"
      },
      "execution_count": 9,
      "outputs": [
        {
          "output_type": "execute_result",
          "data": {
            "text/plain": [
              "[Parameter containing:\n",
              " tensor([[0.7159]], requires_grad=True),\n",
              " Parameter containing:\n",
              " tensor([-0.4192], requires_grad=True)]"
            ]
          },
          "metadata": {},
          "execution_count": 9
        }
      ]
    },
    {
      "cell_type": "markdown",
      "source": [
        "# **4.pick a loss function and optimizer**"
      ],
      "metadata": {
        "id": "UYvnwjollWey"
      }
    },
    {
      "cell_type": "code",
      "source": [
        "criterion= nn.MSELoss()\n",
        "optimizer= torch.optim.SGD(model.parameters(),lr =1e-4)"
      ],
      "metadata": {
        "id": "hgAmDfSWlSWD"
      },
      "execution_count": 10,
      "outputs": []
    },
    {
      "cell_type": "markdown",
      "source": [
        "# **5.build a training loop**"
      ],
      "metadata": {
        "id": "kUxk0fxVmj4E"
      }
    },
    {
      "cell_type": "code",
      "source": [
        "num_epochs = 6"
      ],
      "metadata": {
        "id": "GfPNM0dLl9Cb"
      },
      "execution_count": 13,
      "outputs": []
    },
    {
      "cell_type": "code",
      "source": [
        "from ast import mod\n",
        "for epoch in range(num_epochs):\n",
        "  model.train()\n",
        "  out = model(x_train)\n",
        "  loss = criterion(out, y_train)\n",
        "  optimizer.zero_grad()\n",
        "  loss.backward()\n",
        "  optimizer.step()\n",
        "  if (epoch + 1) % 2 == 0:\n",
        "    print(f'Epoch :[{epoch + 1} / {num_epochs}],loss: {loss.item():.6f}')\n"
      ],
      "metadata": {
        "id": "T3S78VGzmw6v",
        "colab": {
          "base_uri": "https://localhost:8080/"
        },
        "outputId": "30e7b7af-9041-459a-ad04-befbbbeeb6fd"
      },
      "execution_count": 17,
      "outputs": [
        {
          "output_type": "stream",
          "name": "stdout",
          "text": [
            "Epoch :[2 / 6],loss: 2.890222\n",
            "Epoch :[4 / 6],loss: 2.804080\n",
            "Epoch :[6 / 6],loss: 2.720875\n"
          ]
        }
      ]
    },
    {
      "cell_type": "markdown",
      "source": [
        "### **6.Evaluate your model**\n",
        "to see performance of our model for that we evalute it"
      ],
      "metadata": {
        "id": "ld5fz0DtHNiA"
      }
    },
    {
      "cell_type": "code",
      "source": [
        "model.eval()\n",
        "with torch.no_grad():\n",
        "  prediction = model(x_train)\n",
        "prediction.data.numpy()"
      ],
      "metadata": {
        "colab": {
          "base_uri": "https://localhost:8080/"
        },
        "id": "U8PHCCHo-rEe",
        "outputId": "3e084bb7-282c-46d7-ddee-a340525ad0ac"
      },
      "execution_count": 18,
      "outputs": [
        {
          "output_type": "execute_result",
          "data": {
            "text/plain": [
              "array([[1.7608423],\n",
              "       [2.4898286],\n",
              "       [3.2188146],\n",
              "       [4.020699 ],\n",
              "       [4.1664963],\n",
              "       [2.336079 ],\n",
              "       [6.05457  ],\n",
              "       [3.6707861],\n",
              "       [4.603888 ],\n",
              "       [1.0099869],\n",
              "       [4.2407203],\n",
              "       [6.7252374],\n",
              "       [3.094887 ],\n",
              "       [4.873613 ],\n",
              "       [1.6282995]], dtype=float32)"
            ]
          },
          "metadata": {},
          "execution_count": 18
        }
      ]
    },
    {
      "cell_type": "code",
      "source": [
        "fig = plt.figure(figsize=(10,5))\n",
        "plt.plot(x_train.numpy(),y_train.numpy(),'ro',label='Original Data')\n",
        "plt.plot(x_train.numpy(),prediction,label='Fitted_line')\n",
        "plt.xlabel('Hours Studied')\n",
        "plt.ylabel('Exam Score')\n",
        "plt.legend()\n",
        "plt.title('Exam Score Prediction')\n",
        "plt.show()"
      ],
      "metadata": {
        "colab": {
          "base_uri": "https://localhost:8080/",
          "height": 487
        },
        "id": "rc_Xl-PsH6tL",
        "outputId": "54c6264f-2f39-4722-b141-5145829ecb85"
      },
      "execution_count": 22,
      "outputs": [
        {
          "output_type": "display_data",
          "data": {
            "text/plain": [
              "<Figure size 1000x500 with 1 Axes>"
            ],
            "image/png": "[encoded data removed]"
          },
          "metadata": {}
        }
      ]
    },
    {
      "cell_type": "code",
      "source": [
        "model.state_dict()"
      ],
      "metadata": {
        "colab": {
          "base_uri": "https://localhost:8080/"
        },
        "id": "EFuS4466JcDS",
        "outputId": "f3e8315a-7a43-4c19-a3d4-2fc92e79eed3"
      },
      "execution_count": 23,
      "outputs": [
        {
          "output_type": "execute_result",
          "data": {
            "text/plain": [
              "OrderedDict([('linear.weight', tensor([[0.6627]])),\n",
              "             ('linear.bias', tensor([-0.4261]))])"
            ]
          },
          "metadata": {},
          "execution_count": 23
        }
      ]
    },
    {
      "cell_type": "markdown",
      "source": [
        "# **7.Test model with a new data point**"
      ],
      "metadata": {
        "id": "t-tpaR0_KdTm"
      }
    },
    {
      "cell_type": "code",
      "source": [
        "new_hours_studied = 8.0\n",
        "new_hours_tensor = torch.tensor([[new_hours_studied]],dtype=torch.float32)"
      ],
      "metadata": {
        "id": "VGHCmotcKZ5t"
      },
      "execution_count": 24,
      "outputs": []
    },
    {
      "cell_type": "code",
      "source": [
        "model.eval()\n",
        "with torch.no_grad():\n",
        "  new_exam_score = model(new_hours_tensor)\n",
        "\n",
        "print('Predicted exam score for a student who studied for 8 hours',new_exam_score.item())"
      ],
      "metadata": {
        "colab": {
          "base_uri": "https://localhost:8080/"
        },
        "id": "PQwKm4-nK7oi",
        "outputId": "c749c16f-1191-4f4a-fa62-375e4fb63cdd"
      },
      "execution_count": 26,
      "outputs": [
        {
          "output_type": "stream",
          "name": "stdout",
          "text": [
            "Predicted exam score for a student who studied for 8 hours 4.875600814819336\n"
          ]
        }
      ]
    },
    {
      "cell_type": "code",
      "source": [
        "fig = plt.figure(figsize =(10,5))\n",
        "plt.plot(x_train.numpy(),y_train.numpy(),'ro',label= 'Original Data')\n",
        "plt.plot(x_train.numpy(),prediction.numpy(),label='Fitted Line')   #created a line\n",
        "plt.scatter([new_hours_studied],[new_exam_score.item()],color='blue',label='New Data Point')\n",
        "plt.xlabel('Hours Studied')\n",
        "plt.ylabel('Exam Score')\n",
        "plt.legend()\n",
        "plt.title('Exam Score Prediction')\n",
        "plt.show()"
      ],
      "metadata": {
        "colab": {
          "base_uri": "https://localhost:8080/",
          "height": 487
        },
        "id": "wJlRnQBDLEdE",
        "outputId": "9159a72d-8464-43a4-d85d-0cb745575da5"
      },
      "execution_count": 27,
      "outputs": [
        {
          "output_type": "display_data",
          "data": {
            "text/plain": [
              "<Figure size 1000x500 with 1 Axes>"
            ],
            "image/png": "[encoded data removed]"
          },
          "metadata": {}
        }
      ]
    },
    {
      "cell_type": "markdown",
      "source": [
        "# **8.save the model**"
      ],
      "metadata": {
        "id": "N-ScBvRFNXCW"
      }
    },
    {
      "cell_type": "code",
      "source": [
        "torch.save(model.state_dict(),'./LinearRegression.pth')"
      ],
      "metadata": {
        "id": "u4nmoneJMo5R"
      },
      "execution_count": 28,
      "outputs": []
    },
    {
      "cell_type": "code",
      "source": [],
      "metadata": {
        "id": "d036H1SUOCvi"
      },
      "execution_count": null,
      "outputs": []
    }
  ]
}